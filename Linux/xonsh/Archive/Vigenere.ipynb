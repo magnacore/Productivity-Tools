{
 "cells": [
  {
   "cell_type": "code",
   "execution_count": 5,
   "metadata": {},
   "outputs": [],
   "source": [
    "# This function generates the\n",
    "# key in a cyclic manner until\n",
    "# it's length isn't equal to\n",
    "# the length of original text\n",
    "def generateKey(string, key):\n",
    "\tkey = list(key)\n",
    "\tif len(string) == len(key):\n",
    "\t\treturn(key)\n",
    "\telse:\n",
    "\t\tfor i in range(len(string) - len(key)):\n",
    "\t\t\tkey.append(key[i % len(key)])\n",
    "\treturn(\"\" . join(key))"
   ]
  },
  {
   "cell_type": "markdown",
   "metadata": {},
   "source": [
    "$E_i = \\text{Encrypted Character i}$<br>\n",
    "$P_i = \\text{Plain Character i}$<br>\n",
    "$D_i = \\text{Decrypted Character i}$<br>\n",
    "$K_i = \\text{Key Character i}$<br>\n",
    "$min = \\text{Minimum ACII range}$<br>\n",
    "$max = \\text{Maximum ACII range}$<br>\n",
    "\n",
    "$$ E_i = (((P_i - min) + (K_i - min)) \\mod ((max+1)-min)) + min $$\n",
    "\n",
    "$$ D_i = (((E_i - min) - (K_i - min) + ((max+1)-min)) \\mod ((max+1)-min))) + min $$"
   ]
  },
  {
   "cell_type": "code",
   "execution_count": 6,
   "metadata": {},
   "outputs": [],
   "source": [
    "def cipherText(string, key, ascii_min=32, ascii_max=126):\n",
    "\tcipher_text = []\n",
    "\tstring = str(string)\n",
    "\tfor i in range(len(string)):\n",
    "\t\tx = ((ord(string[i])-ascii_min) + (ord(key[i])-ascii_min)) % ((ascii_max+1)-ascii_min)\n",
    "\t\tcipher_text.append(chr(x+ascii_min))\n",
    "\treturn(\"\" . join(cipher_text))\n",
    "\n",
    "def originalText(cipher_text, key, ascii_min=32, ascii_max=126):\n",
    "\torig_text = []\n",
    "\tfor i in range(len(cipher_text)):\n",
    "\t\tx = ((ord(cipher_text[i])-ascii_min) - (ord(key[i])-ascii_min) + ((ascii_max+1)-ascii_min)) % ((ascii_max+1)-ascii_min)\n",
    "\t\torig_text.append(chr(x+ascii_min))\n",
    "\treturn(\"\" . join(orig_text))"
   ]
  },
  {
   "cell_type": "code",
   "execution_count": 7,
   "metadata": {},
   "outputs": [],
   "source": [
    "with open('/home/manuj/Documents/SENSITIVE DATA/vigenere_master_password.txt') as f:\n",
    "    lines = f.readlines()\n",
    "\n",
    "keyword = lines[0].strip()"
   ]
  },
  {
   "cell_type": "code",
   "execution_count": 9,
   "metadata": {},
   "outputs": [
    {
     "name": "stdout",
     "output_type": "stream",
     "text": [
      "Ciphertext : |Hxy%?2z2N`(g^X4\n",
      "Original/Decrypted Text : MySecretPassword\n",
      "Its a match!\n"
     ]
    }
   ],
   "source": [
    "# Use raw strings\n",
    "# Python cannot handle \\ as the last character in a raw string. It can be at the start or middle.\n",
    "# What happens if \\ is the last character in the encrypted string? Will python not able to decrypt it?\n",
    "string = r\"\"\"MySecretPassword\"\"\"\n",
    "\n",
    "key = generateKey(string, keyword)\n",
    "\n",
    "cipher_text = cipherText(string,key)\n",
    "print(\"Ciphertext :\", cipher_text)\n",
    "\n",
    "print(\"Original/Decrypted Text :\", originalText(cipher_text, key))\n",
    "\n",
    "if originalText(cipher_text, key) == string:\n",
    "    print('Its a match!')"
   ]
  },
  {
   "cell_type": "code",
   "execution_count": 11,
   "metadata": {},
   "outputs": [
    {
     "data": {
      "text/plain": [
       "('|', '4')"
      ]
     },
     "execution_count": 11,
     "metadata": {},
     "output_type": "execute_result"
    }
   ],
   "source": [
    "cipher_text[0], cipher_text[-1]"
   ]
  }
 ],
 "metadata": {
  "interpreter": {
   "hash": "5f4ff180e523e60c3a81154c4aff341f097e2f4fcc77368f3c8817eadb07a3b4"
  },
  "kernelspec": {
   "display_name": "Python 3.8.8 ('base')",
   "language": "python",
   "name": "python3"
  },
  "language_info": {
   "codemirror_mode": {
    "name": "ipython",
    "version": 3
   },
   "file_extension": ".py",
   "mimetype": "text/x-python",
   "name": "python",
   "nbconvert_exporter": "python",
   "pygments_lexer": "ipython3",
   "version": "3.11.5"
  },
  "orig_nbformat": 4
 },
 "nbformat": 4,
 "nbformat_minor": 2
}
